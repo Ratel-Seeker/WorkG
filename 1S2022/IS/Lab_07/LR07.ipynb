{
 "cells": [
  {
   "cell_type": "code",
   "execution_count": 11,
   "metadata": {},
   "outputs": [],
   "source": [
    "def main():\n",
    "    \n",
    "    dict = {\"я\":0, \"а\" :1, \"б\" :2 , \"в\" :3 ,\"г\" :4 ,\"д\" :5 ,\"е\" :6 ,\"ё\" :7 ,\"ж\": 8, \"з\": 9, \"и\": 10, \"й\": 11, \"к\": 12, \"л\": 13,\n",
    "            \"м\": 14, \"н\": 15, \"о\": 16, \"п\": 17,\n",
    "            \"р\": 18, \"с\": 19, \"т\": 20, \"у\": 21, \"ф\": 22, \"х\": 23, \"ц\": 24, \"ч\": 25, \"ш\": 26, \"щ\": 27, \"ъ\": 28,\n",
    "            \"ы\": 29, \"ь\": 30, \"э\": 31, \"ю\": 32, \" \": 32\n",
    "            }\n",
    "    \n",
    "    dict2 = {v: k for k, v in dict.items()}\n",
    "    gamma = input(\"Введите гамму(символы из dict) \").lower()\n",
    "    text = input(\"Введите текст для шифрования (символы из dict) \").lower()\n",
    "    \n",
    "    \n",
    "    listofdigitsoftext = list() \n",
    "    listofdigitsofgamma = list()\n",
    "    \n",
    "    \n",
    "    for i in text:\n",
    "        listofdigitsoftext.append(dict[i])\n",
    "    print(\"Числа текста \", listofdigitsoftext)\n",
    "    \n",
    "    \n",
    "    for i in gamma:\n",
    "        listofdigitsofgamma.append(dict[i])\n",
    "    print(\"числа гаммы \", listofdigitsofgamma)\n",
    "    \n",
    "    listofdigitsresult = list() \n",
    "    \n",
    "    ch = 0\n",
    "    for i in text:\n",
    "        try:\n",
    "            a = dict[i] + listofdigitsofgamma[ch]\n",
    "        except:\n",
    "            ch=0\n",
    "            a = dict[i] + listofdigitsofgamma[ch]\n",
    "        if a>=33:\n",
    "            a = a%33\n",
    "        ch+=1\n",
    "        listofdigitsresult.append(a)\n",
    "        \n",
    "    print(\"Числа зашифрованного текста \", listofdigitsresult)\n",
    "    \n",
    "    \n",
    "    textencrypted=\"\"\n",
    "    \n",
    "    for i in listofdigitsresult:\n",
    "        textencrypted+=dict2[i]\n",
    "    print(\"Зашифрованный текст: \", textencrypted)\n",
    "    \n",
    "    \n",
    "    listofdigits = list()\n",
    "    for i in textencrypted:\n",
    "        listofdigits.append(dict[i])\n",
    "    ch = 0\n",
    "    listofdigits1 = list()\n",
    "    \n",
    "    for i in listofdigits:\n",
    "        a = i - listofdigitsofgamma[ch]\n",
    "        \n",
    "        if a < 1:\n",
    "            a = 33 + a\n",
    "        listofdigits1.append(a)\n",
    "        ch+=1\n",
    "        \n",
    "    textdecrypted = \"\"\n",
    "    \n",
    "    for i in listofdigits1:\n",
    "        textdecrypted+=dict2[i]\n",
    "    print(\"Расшифрованный текст:\", textdecrypted)"
   ]
  },
  {
   "cell_type": "code",
   "execution_count": 12,
   "metadata": {},
   "outputs": [
    {
     "name": "stdout",
     "output_type": "stream",
     "text": [
      "Введите гамму(символы из dict) пппфпапоттпыпштирлецо\n",
      "Введите текст для шифрования (символы из dict) с новым годом штирлец\n",
      "Числа текста  [19, 32, 15, 16, 3, 29, 14, 32, 4, 16, 5, 16, 14, 32, 26, 20, 10, 18, 13, 6, 24]\n",
      "числа гаммы  [17, 17, 17, 22, 17, 1, 17, 16, 20, 20, 17, 29, 17, 26, 20, 10, 18, 13, 6, 24, 16]\n",
      "Числа зашифрованного текста  [3, 16, 32, 5, 20, 30, 31, 15, 24, 3, 22, 12, 31, 25, 13, 30, 28, 31, 19, 30, 7]\n",
      "Зашифрованный текст:  во дтьэнцвфкэчльъэсьё\n",
      "Расшифрованный текст: с новым годом штирлец\n"
     ]
    }
   ],
   "source": [
    "if __name__ == '__main__':\n",
    "    main()"
   ]
  },
  {
   "cell_type": "code",
   "execution_count": null,
   "metadata": {},
   "outputs": [],
   "source": [
    "с новым годом штирлец 21\n",
    "пппппппппппппштирлецо 21"
   ]
  }
 ],
 "metadata": {
  "kernelspec": {
   "display_name": "Python 3",
   "language": "python",
   "name": "python3"
  },
  "language_info": {
   "codemirror_mode": {
    "name": "ipython",
    "version": 3
   },
   "file_extension": ".py",
   "mimetype": "text/x-python",
   "name": "python",
   "nbconvert_exporter": "python",
   "pygments_lexer": "ipython3",
   "version": "3.8.5"
  }
 },
 "nbformat": 4,
 "nbformat_minor": 4
}
